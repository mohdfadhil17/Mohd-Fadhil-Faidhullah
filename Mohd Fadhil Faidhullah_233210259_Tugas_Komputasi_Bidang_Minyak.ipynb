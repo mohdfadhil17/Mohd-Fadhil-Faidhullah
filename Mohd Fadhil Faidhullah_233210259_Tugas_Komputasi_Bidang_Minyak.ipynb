{
 "cells": [
  {
   "cell_type": "markdown",
   "metadata": {},
   "source": [
    "## 1. MENGHITUNG VOLUME RESERVOIR"
   ]
  },
  {
   "cell_type": "code",
   "execution_count": 1,
   "metadata": {},
   "outputs": [
    {
     "name": "stdout",
     "output_type": "stream",
     "text": [
      "Volume reservoir adalah: 2615.6200000000003\n"
     ]
    }
   ],
   "source": [
    "# Deklarasi\n",
    "phi = 3.14\n",
    "r = 7\n",
    "h = 17\n",
    "\n",
    "# Rumus Volume reservoir\n",
    "v = phi * r * r * h\n",
    "print(\"Volume reservoir adalah:\", v)"
   ]
  },
  {
   "cell_type": "markdown",
   "metadata": {},
   "source": [
    "## 2. MENGHITUNG POROSITAS"
   ]
  },
  {
   "cell_type": "code",
   "execution_count": 2,
   "metadata": {},
   "outputs": [
    {
     "name": "stdout",
     "output_type": "stream",
     "text": [
      "Porositas batuan adalah: 65.38461538461539\n"
     ]
    }
   ],
   "source": [
    "# Deklarasi\n",
    "vp = 17\n",
    "vb = 26\n",
    "\n",
    "# Rumus Porositas batuan\n",
    "Ø = vp/vb * 100\n",
    "print(\"Porositas batuan adalah:\",Ø)"
   ]
  },
  {
   "cell_type": "markdown",
   "metadata": {},
   "source": [
    "## 3. MENGHITUNG LAJU ALIR MINYAK"
   ]
  },
  {
   "cell_type": "code",
   "execution_count": 3,
   "metadata": {},
   "outputs": [
    {
     "name": "stdout",
     "output_type": "stream",
     "text": [
      "Flow rate minyak adalah: 40.0\n"
     ]
    }
   ],
   "source": [
    "# Deklarasi\n",
    "v = 200\n",
    "t = 5\n",
    "\n",
    "# Rumus Porositas batuan\n",
    "Q = v/t\n",
    "print(\"Flow rate minyak adalah:\",Q)"
   ]
  },
  {
   "cell_type": "markdown",
   "metadata": {},
   "source": [
    "## 4. MENGHITUNG FAKTOR PEMULIHAN (RECOVERY FACTOR) DENGAN MATERIAL BALANCE EQUATION"
   ]
  },
  {
   "cell_type": "code",
   "execution_count": 4,
   "metadata": {},
   "outputs": [
    {
     "name": "stdout",
     "output_type": "stream",
     "text": [
      "Recovery Factor adalah: 15.652941176470588\n"
     ]
    }
   ],
   "source": [
    "# Deklarasi\n",
    "Np = 266\n",
    "N = 17\n",
    "m = 0.1\n",
    "\n",
    "# Rumus Recovery Factor\n",
    "RF = Np/N+(m/N)\n",
    "print(\"Recovery Factor adalah:\", RF)"
   ]
  },
  {
   "cell_type": "markdown",
   "metadata": {},
   "source": [
    "## 5. MENGHITUNG PERMEABILITAS EFEKTIF"
   ]
  },
  {
   "cell_type": "code",
   "execution_count": 1,
   "metadata": {},
   "outputs": [
    {
     "name": "stdout",
     "output_type": "stream",
     "text": [
      "Permeabilitas Efektif adalah: 0.192\n"
     ]
    }
   ],
   "source": [
    "# Deklarasi\n",
    "n = 2\n",
    "m = 2\n",
    "Krw = 0.3\n",
    "Sw = 0.4\n",
    "Sor = 0.2\n",
    "\n",
    "# Rumus Permeabilitas Efektif\n",
    "kr = Krw * (Sw*n) * (1-Sor-Sw)*m\n",
    "print(\"Permeabilitas Efektif adalah:\", kr)"
   ]
  }
 ],
 "metadata": {
  "kernelspec": {
   "display_name": "Python 3",
   "language": "python",
   "name": "python3"
  },
  "language_info": {
   "codemirror_mode": {
    "name": "ipython",
    "version": 3
   },
   "file_extension": ".py",
   "mimetype": "text/x-python",
   "name": "python",
   "nbconvert_exporter": "python",
   "pygments_lexer": "ipython3",
   "version": "3.12.2"
  }
 },
 "nbformat": 4,
 "nbformat_minor": 2
}
