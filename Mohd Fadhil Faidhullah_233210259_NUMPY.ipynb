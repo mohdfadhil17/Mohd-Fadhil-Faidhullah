{
 "cells": [
  {
   "cell_type": "markdown",
   "metadata": {},
   "source": [
    "## 1. PERKALIAN\n"
   ]
  },
  {
   "cell_type": "code",
   "execution_count": 9,
   "metadata": {},
   "outputs": [
    {
     "name": "stdout",
     "output_type": "stream",
     "text": [
      "[[390 640 185]]\n"
     ]
    }
   ],
   "source": [
    "A = np.array([[26, 8, 5]])\n",
    "B = np.array([[15, 80, 37]])\n",
    "\n",
    "perkalian = A * B\n",
    "print (perkalian)"
   ]
  },
  {
   "cell_type": "markdown",
   "metadata": {},
   "source": [
    "## 2. PENGURANGAN"
   ]
  },
  {
   "cell_type": "code",
   "execution_count": 10,
   "metadata": {},
   "outputs": [
    {
     "name": "stdout",
     "output_type": "stream",
     "text": [
      "[[ 11 -72 -32]]\n"
     ]
    }
   ],
   "source": [
    "A = np.array([[26, 8, 5]])\n",
    "B = np.array([[15, 80, 37]])\n",
    "\n",
    "pengurangan = A - B\n",
    "print (pengurangan)"
   ]
  },
  {
   "cell_type": "markdown",
   "metadata": {},
   "source": [
    "## 3. TRANSPOSE\n"
   ]
  },
  {
   "cell_type": "code",
   "execution_count": 20,
   "metadata": {},
   "outputs": [
    {
     "name": "stdout",
     "output_type": "stream",
     "text": [
      "[[26 15]\n",
      " [ 8 80]\n",
      " [ 5 37]]\n"
     ]
    }
   ],
   "source": [
    "import numpy as np\n",
    "\n",
    "A = np.array([[26, 8, 5], [15, 80, 37]])\n",
    "\n",
    "transpose_A = np.transpose(A)\n",
    "\n",
    "print(transpose_A)"
   ]
  },
  {
   "cell_type": "markdown",
   "metadata": {},
   "source": [
    "## 4. INVERSE\n"
   ]
  },
  {
   "cell_type": "code",
   "execution_count": 7,
   "metadata": {},
   "outputs": [
    {
     "name": "stdout",
     "output_type": "stream",
     "text": [
      "\n",
      "invers matriks A:\n",
      "[[-0.00633779  0.01455978]\n",
      " [ 0.01370332 -0.00445358]]\n"
     ]
    }
   ],
   "source": [
    "import numpy as np\n",
    "\n",
    "A = np.array([[26, 85], [80,37]])\n",
    "\n",
    "inverse_A = np.linalg.inv(A)\n",
    "print(\"\\ninvers matriks A:\")\n",
    "print(inverse_A)"
   ]
  },
  {
   "cell_type": "markdown",
   "metadata": {},
   "source": [
    "## 5. DETERMINANT"
   ]
  },
  {
   "cell_type": "code",
   "execution_count": 9,
   "metadata": {},
   "outputs": [
    {
     "name": "stdout",
     "output_type": "stream",
     "text": [
      "Determinan dari matriks A: -5837.999999999996\n"
     ]
    }
   ],
   "source": [
    "import numpy as np\n",
    "\n",
    "A = np.array([[26, 85], [80,37]])\n",
    "\n",
    "determinant_A = np.linalg.det(A)\n",
    "print(\"Determinan dari matriks A:\", determinant_A)"
   ]
  }
 ],
 "metadata": {
  "kernelspec": {
   "display_name": "Python 3",
   "language": "python",
   "name": "python3"
  },
  "language_info": {
   "codemirror_mode": {
    "name": "ipython",
    "version": 3
   },
   "file_extension": ".py",
   "mimetype": "text/x-python",
   "name": "python",
   "nbconvert_exporter": "python",
   "pygments_lexer": "ipython3",
   "version": "3.12.2"
  }
 },
 "nbformat": 4,
 "nbformat_minor": 2
}
